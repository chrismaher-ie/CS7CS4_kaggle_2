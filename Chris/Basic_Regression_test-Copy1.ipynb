{
 "cells": [
  {
   "cell_type": "code",
   "execution_count": 9,
   "metadata": {
    "scrolled": true
   },
   "outputs": [],
   "source": [
    "#importing libraries\n",
    "import pandas as pd\n",
    "import numpy as np\n",
    "\n",
    "from sklearn.model_selection import train_test_split\n",
    "from sklearn.linear_model import BayesianRidge\n",
    "from sklearn.metrics import mean_absolute_error, r2_score\n",
    "from sklearn.preprocessing import MinMaxScaler, OneHotEncoder, LabelEncoder, KBinsDiscretizer\n"
   ]
  },
  {
   "cell_type": "code",
   "execution_count": 10,
   "metadata": {},
   "outputs": [],
   "source": [
    "\n",
    "def Get_Clean_Combined_Dataset():\n",
    "\n",
    "    df = pd.read_csv(\"tcd-ml-1920-group-income-train.csv\")\n",
    "    df\n",
    "    \n",
    "    df.drop_duplicates(subset =\"Instance\", \n",
    "                     keep = False, inplace = True)\n",
    "    df2 = pd.read_csv(\"tcd-ml-1920-group-income-test.csv\")\n",
    "    df2[\"Instance\"] = df2[\"Instance\"] + 991709\n",
    "    \n",
    "    data = pd.concat([df,df2], axis=0)\n",
    "    data = data.reset_index(drop=True)\n",
    "    return data"
   ]
  },
  {
   "cell_type": "code",
   "execution_count": 11,
   "metadata": {},
   "outputs": [],
   "source": [
    "\n",
    "data_set = Get_Clean_Combined_Dataset()"
   ]
  },
  {
   "cell_type": "code",
   "execution_count": 36,
   "metadata": {},
   "outputs": [
    {
     "data": {
      "text/html": [
       "<div>\n",
       "<style scoped>\n",
       "    .dataframe tbody tr th:only-of-type {\n",
       "        vertical-align: middle;\n",
       "    }\n",
       "\n",
       "    .dataframe tbody tr th {\n",
       "        vertical-align: top;\n",
       "    }\n",
       "\n",
       "    .dataframe thead th {\n",
       "        text-align: right;\n",
       "    }\n",
       "</style>\n",
       "<table border=\"1\" class=\"dataframe\">\n",
       "  <thead>\n",
       "    <tr style=\"text-align: right;\">\n",
       "      <th></th>\n",
       "      <th>Instance</th>\n",
       "      <th>Year of Record</th>\n",
       "      <th>Housing Situation</th>\n",
       "      <th>Crime Level in the City of Employement</th>\n",
       "      <th>Work Experience in Current Job [years]</th>\n",
       "      <th>Satisfation with employer</th>\n",
       "      <th>Gender</th>\n",
       "      <th>Age</th>\n",
       "      <th>Country</th>\n",
       "      <th>Size of City</th>\n",
       "      <th>Profession</th>\n",
       "      <th>University Degree</th>\n",
       "      <th>Wears Glasses</th>\n",
       "      <th>Hair Color</th>\n",
       "      <th>Body Height [cm]</th>\n",
       "      <th>Yearly Income in addition to Salary (e.g. Rental Income)</th>\n",
       "      <th>Total Yearly Income [EUR]</th>\n",
       "    </tr>\n",
       "  </thead>\n",
       "  <tbody>\n",
       "    <tr>\n",
       "      <td>0</td>\n",
       "      <td>1</td>\n",
       "      <td>1940.0</td>\n",
       "      <td>0</td>\n",
       "      <td>33</td>\n",
       "      <td>17</td>\n",
       "      <td>Unhappy</td>\n",
       "      <td>other</td>\n",
       "      <td>45</td>\n",
       "      <td>Afghanistan</td>\n",
       "      <td>25179</td>\n",
       "      <td>group head</td>\n",
       "      <td>No</td>\n",
       "      <td>1</td>\n",
       "      <td>Black</td>\n",
       "      <td>182</td>\n",
       "      <td>0 EUR</td>\n",
       "      <td>6182.05</td>\n",
       "    </tr>\n",
       "    <tr>\n",
       "      <td>1</td>\n",
       "      <td>2</td>\n",
       "      <td>1940.0</td>\n",
       "      <td>0</td>\n",
       "      <td>25</td>\n",
       "      <td>4.9</td>\n",
       "      <td>Unhappy</td>\n",
       "      <td>female</td>\n",
       "      <td>17</td>\n",
       "      <td>Afghanistan</td>\n",
       "      <td>2278204</td>\n",
       "      <td>heavy vehicle and mobile equipment service tec...</td>\n",
       "      <td>No</td>\n",
       "      <td>0</td>\n",
       "      <td>Blond</td>\n",
       "      <td>172</td>\n",
       "      <td>0 EUR</td>\n",
       "      <td>6819.69</td>\n",
       "    </tr>\n",
       "    <tr>\n",
       "      <td>2</td>\n",
       "      <td>3</td>\n",
       "      <td>1940.0</td>\n",
       "      <td>0</td>\n",
       "      <td>34</td>\n",
       "      <td>21</td>\n",
       "      <td>Unhappy</td>\n",
       "      <td>female</td>\n",
       "      <td>48</td>\n",
       "      <td>Afghanistan</td>\n",
       "      <td>822134</td>\n",
       "      <td>sorter</td>\n",
       "      <td>Bachelor</td>\n",
       "      <td>0</td>\n",
       "      <td>Blond</td>\n",
       "      <td>144</td>\n",
       "      <td>0 EUR</td>\n",
       "      <td>8663.53</td>\n",
       "    </tr>\n",
       "    <tr>\n",
       "      <td>3</td>\n",
       "      <td>4</td>\n",
       "      <td>1940.0</td>\n",
       "      <td>0</td>\n",
       "      <td>70</td>\n",
       "      <td>18</td>\n",
       "      <td>Average</td>\n",
       "      <td>female</td>\n",
       "      <td>42</td>\n",
       "      <td>Albania</td>\n",
       "      <td>59477</td>\n",
       "      <td>quality control senior engineer</td>\n",
       "      <td>No</td>\n",
       "      <td>1</td>\n",
       "      <td>Brown</td>\n",
       "      <td>152</td>\n",
       "      <td>0 EUR</td>\n",
       "      <td>2400.64</td>\n",
       "    </tr>\n",
       "    <tr>\n",
       "      <td>4</td>\n",
       "      <td>5</td>\n",
       "      <td>1940.0</td>\n",
       "      <td>0</td>\n",
       "      <td>51</td>\n",
       "      <td>8</td>\n",
       "      <td>Happy</td>\n",
       "      <td>other</td>\n",
       "      <td>15</td>\n",
       "      <td>Albania</td>\n",
       "      <td>23494</td>\n",
       "      <td>logistician</td>\n",
       "      <td>Master</td>\n",
       "      <td>1</td>\n",
       "      <td>Black</td>\n",
       "      <td>180</td>\n",
       "      <td>0 EUR</td>\n",
       "      <td>2816.18</td>\n",
       "    </tr>\n",
       "  </tbody>\n",
       "</table>\n",
       "</div>"
      ],
      "text/plain": [
       "   Instance  Year of Record Housing Situation  \\\n",
       "0         1          1940.0                 0   \n",
       "1         2          1940.0                 0   \n",
       "2         3          1940.0                 0   \n",
       "3         4          1940.0                 0   \n",
       "4         5          1940.0                 0   \n",
       "\n",
       "   Crime Level in the City of Employement  \\\n",
       "0                                      33   \n",
       "1                                      25   \n",
       "2                                      34   \n",
       "3                                      70   \n",
       "4                                      51   \n",
       "\n",
       "  Work Experience in Current Job [years] Satisfation with employer  Gender  \\\n",
       "0                                     17                   Unhappy   other   \n",
       "1                                    4.9                   Unhappy  female   \n",
       "2                                     21                   Unhappy  female   \n",
       "3                                     18                   Average  female   \n",
       "4                                      8                     Happy   other   \n",
       "\n",
       "   Age      Country  Size of City  \\\n",
       "0   45  Afghanistan         25179   \n",
       "1   17  Afghanistan       2278204   \n",
       "2   48  Afghanistan        822134   \n",
       "3   42      Albania         59477   \n",
       "4   15      Albania         23494   \n",
       "\n",
       "                                          Profession University Degree  \\\n",
       "0                                         group head                No   \n",
       "1  heavy vehicle and mobile equipment service tec...                No   \n",
       "2                                             sorter          Bachelor   \n",
       "3                    quality control senior engineer                No   \n",
       "4                                        logistician            Master   \n",
       "\n",
       "   Wears Glasses Hair Color  Body Height [cm]  \\\n",
       "0              1      Black               182   \n",
       "1              0      Blond               172   \n",
       "2              0      Blond               144   \n",
       "3              1      Brown               152   \n",
       "4              1      Black               180   \n",
       "\n",
       "  Yearly Income in addition to Salary (e.g. Rental Income)  \\\n",
       "0                                              0 EUR         \n",
       "1                                              0 EUR         \n",
       "2                                              0 EUR         \n",
       "3                                              0 EUR         \n",
       "4                                              0 EUR         \n",
       "\n",
       "   Total Yearly Income [EUR]  \n",
       "0                    6182.05  \n",
       "1                    6819.69  \n",
       "2                    8663.53  \n",
       "3                    2400.64  \n",
       "4                    2816.18  "
      ]
     },
     "execution_count": 36,
     "metadata": {},
     "output_type": "execute_result"
    }
   ],
   "source": [
    "\n",
    "#Split data into income set (Incuding instance so that the unlabled data can extracted later)\n",
    "y = data_set[[\"Instance\",\"Total Yearly Income [EUR]\"]].copy()\n",
    "data_set.head()\n",
    "\n",
    "#And all the Feature data (Incuding instance so that the unlabled data can extracted later)\n",
    "X = data_set[[\"Instance\",\"Year of Record\",\"Age\",\"Size of City\",\"Profession\",\"University Degree\",\"Country\",\"Gender\"]].copy()\n",
    "data_set.head()"
   ]
  },
  {
   "cell_type": "code",
   "execution_count": 37,
   "metadata": {},
   "outputs": [],
   "source": [
    "#Function to relpace invalid entries in numeric features with the mean walue of the particular feature\n",
    "def ReplaceNan_Numeric(df,F_Name):\n",
    "    average = df[F_Name].dropna().mean(axis=0)\n",
    "    df[F_Name] = df[F_Name].replace(np.nan, average, inplace=False)\n",
    "    return df"
   ]
  },
  {
   "cell_type": "code",
   "execution_count": null,
   "metadata": {},
   "outputs": [],
   "source": []
  },
  {
   "cell_type": "code",
   "execution_count": null,
   "metadata": {},
   "outputs": [],
   "source": []
  },
  {
   "cell_type": "code",
   "execution_count": null,
   "metadata": {},
   "outputs": [],
   "source": []
  },
  {
   "cell_type": "code",
   "execution_count": null,
   "metadata": {},
   "outputs": [],
   "source": []
  },
  {
   "cell_type": "code",
   "execution_count": 38,
   "metadata": {},
   "outputs": [],
   "source": [
    "# Clean numeric data\n",
    "X = ReplaceNan_Numeric(X,\"Year of Record\")\n"
   ]
  },
  {
   "cell_type": "code",
   "execution_count": 39,
   "metadata": {},
   "outputs": [],
   "source": [
    "X[\"Year of Record\"] = X[\"Year of Record\"].map(lambda year: np.exp(year-1939))\n"
   ]
  },
  {
   "cell_type": "code",
   "execution_count": null,
   "metadata": {},
   "outputs": [],
   "source": []
  },
  {
   "cell_type": "code",
   "execution_count": 40,
   "metadata": {},
   "outputs": [],
   "source": [
    "X = X[[\"Instance\",\"Year of Record\"]]\n"
   ]
  },
  {
   "cell_type": "code",
   "execution_count": 41,
   "metadata": {},
   "outputs": [],
   "source": [
    "#Split the data back out to separate sets on key 'Instance'\n",
    "df2_X = X.loc[X[\"Instance\"] > 991709]\n",
    "X = X.loc[X[\"Instance\"] <= 991709]         \n",
    "#df2_y = y.loc[y[\"Instance\"] > 991709] #not needed\n",
    "y = y.loc[y[\"Instance\"] <= 991709]\n",
    "\n",
    "#Drop 'Instance' from datasets not that it is nolonger needed as a key\n",
    "df2_X = df2_X.drop(\"Instance\",1)\n",
    "X = X.drop(\"Instance\",1)\n",
    "y = y.drop(\"Instance\",1)"
   ]
  },
  {
   "cell_type": "code",
   "execution_count": 42,
   "metadata": {},
   "outputs": [
    {
     "name": "stdout",
     "output_type": "stream",
     "text": [
      "Mean absolute error: 70636.39\n",
      "Variance score: 0.17\n"
     ]
    },
    {
     "name": "stderr",
     "output_type": "stream",
     "text": [
      "c:\\users\\chris\\appdata\\local\\programs\\python\\python37\\lib\\site-packages\\sklearn\\utils\\validation.py:724: DataConversionWarning: A column-vector y was passed when a 1d array was expected. Please change the shape of y to (n_samples, ), for example using ravel().\n",
      "  y = column_or_1d(y, warn=True)\n"
     ]
    }
   ],
   "source": [
    "# Split the test and training data\n",
    "X_train, X_test, y_train, y_test = train_test_split(X, y, test_size=0.1, random_state=42)\n",
    "\n",
    "# Create ridgecv regression object with 4 crossvalidation folds\n",
    "regr = BayesianRidge()\n",
    "\n",
    "# Train the model using the training sets\n",
    "regr.fit(X_train, (y_train))\n",
    "\n",
    "# Make predictions using the testing set\n",
    "y_pred = regr.predict(X_test)\n",
    "\n",
    "# Print results\n",
    "print(\"Mean absolute error: %.2f\"\n",
    "      % mean_absolute_error(y_test, (y_pred)))\n",
    "\n",
    "# Explained variance score: 1 is perfect prediction\n",
    "print('Variance score: %.2f' % r2_score(y_test, (y_pred)))"
   ]
  },
  {
   "cell_type": "code",
   "execution_count": null,
   "metadata": {},
   "outputs": [],
   "source": [
    "# Make predictions on the unlabled dataset\n",
    "df2_y_pred = regr.predict(df2_X)\n",
    "# export data\n",
    "pd.DataFrame(df2_y_pred).to_csv(\"Predictions.csv\")"
   ]
  }
 ],
 "metadata": {
  "kernelspec": {
   "display_name": "Python 3",
   "language": "python",
   "name": "python3"
  },
  "language_info": {
   "codemirror_mode": {
    "name": "ipython",
    "version": 3
   },
   "file_extension": ".py",
   "mimetype": "text/x-python",
   "name": "python",
   "nbconvert_exporter": "python",
   "pygments_lexer": "ipython3",
   "version": "3.7.4"
  }
 },
 "nbformat": 4,
 "nbformat_minor": 2
}
