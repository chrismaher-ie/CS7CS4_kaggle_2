{
 "cells": [
  {
   "cell_type": "code",
   "execution_count": null,
   "metadata": {},
   "outputs": [],
   "source": [
    "#library imports\n",
    "import pandas as pd\n",
    "import numpy as np\n",
    "from sklearn.model_selection import train_test_split\n",
    "from sklearn.linear_model import BayesianRidge\n",
    "from sklearn.metrics import mean_absolute_error, mean_squared_error, r2_score"
   ]
  },
  {
   "cell_type": "code",
   "execution_count": null,
   "metadata": {},
   "outputs": [],
   "source": [
    "#open, combine and clean csv data\n",
    "def Get_Clean_Combined_Dataset():\n",
    "\n",
    "    df = pd.read_csv(\"tcd-ml-1920-group-income-train.csv\")\n",
    "    \n",
    "    df.drop_duplicates(subset =\"Instance\", keep = \"first\", inplace = True)\n",
    "    df2 = pd.read_csv(\"tcd-ml-1920-group-income-test.csv\")\n",
    "    df2[\"Instance\"] = df2[\"Instance\"] + 991709\n",
    "    \n",
    "    data = pd.concat([df,df2], axis=0)\n",
    "    data = data.reset_index(drop=True)\n",
    "    return data"
   ]
  },
  {
   "cell_type": "code",
   "execution_count": null,
   "metadata": {},
   "outputs": [],
   "source": [
    "#get dataset\n",
    "data_set = Get_Clean_Combined_Dataset()"
   ]
  },
  {
   "cell_type": "code",
   "execution_count": null,
   "metadata": {},
   "outputs": [],
   "source": [
    "#See the mean income of a feature to see any trends\n",
    "means = data_set.groupby(\"Housing Situation\")[\"Total Yearly Income [EUR]\"].mean()\n",
    "print(means)"
   ]
  },
  {
   "cell_type": "code",
   "execution_count": null,
   "metadata": {},
   "outputs": [],
   "source": [
    "#target encoder\n",
    "#catagorical data is replaced with the mean of the means of the feature\n",
    "#Eg all 'Phd's in University Degree become 93,000\n",
    "def Target_Encode(df, feature, y_col=\"Total Yearly Income [EUR]\"):\n",
    "    \n",
    "    df[feature] = df[feature].replace(np.nan, \"Unknown\", inplace=False)\n",
    "    \n",
    "    means = df.groupby(feature)[y_col].mean()\n",
    "    \n",
    "    df[feature] = df[feature].map(means)\n",
    "    \n",
    "    return df"
   ]
  },
  {
   "cell_type": "code",
   "execution_count": null,
   "metadata": {},
   "outputs": [],
   "source": [
    "#Target encode all the catagorical features\n",
    "data_set = Target_Encode(data_set, \"Profession\")\n",
    "data_set = Target_Encode(data_set, \"Satisfation with employer\")\n",
    "#data_set = Target_Encode(data_set, \"Country\") # Country data needs more cleaning\n",
    "data_set = Target_Encode(data_set, \"Gender\")\n",
    "data_set = Target_Encode(data_set, \"University Degree\")\n",
    "data_set = Target_Encode(data_set, \"Housing Situation\")\n",
    "\n",
    "#Special case for hair colour - from observation it only maters if it is '0'\n",
    "#Set this to a bool \n",
    "data_set[\"Hair Color\"] = np.where(data_set[\"Hair Color\"] =='0', 1, 0)\n",
    "\n",
    "#Select features\n",
    "X = data_set[[\"Instance\", \"Profession\",\"Satisfation with employer\",\"University Degree\",\"Hair Color\",\"Housing Situation\"]]\n",
    "\n",
    "#Setup target array\n",
    "y = data_set[[\"Instance\",\"Total Yearly Income [EUR]\"]]\n",
    "X.head(30)\n"
   ]
  },
  {
   "cell_type": "code",
   "execution_count": null,
   "metadata": {},
   "outputs": [],
   "source": [
    "#Split the data back out to separate sets on key 'Instance'\n",
    "df2_X = X.loc[X[\"Instance\"] > 991709]\n",
    "X = X.loc[X[\"Instance\"] <= 991709]         \n",
    "#df2_y = y.loc[y[\"Instance\"] > 991709] #not needed\n",
    "y = y.loc[y[\"Instance\"] <= 991709]\n",
    "\n",
    "#Drop 'Instance' from datasets not that it is nolonger needed as a key\n",
    "df2_X = df2_X.drop(\"Instance\",1)\n",
    "X = X.drop(\"Instance\",1)\n",
    "y = y.drop(\"Instance\",1)"
   ]
  },
  {
   "cell_type": "code",
   "execution_count": null,
   "metadata": {},
   "outputs": [],
   "source": [
    "# Split the test and training data\n",
    "X_train, X_test, y_train, y_test = train_test_split(X, y, test_size=0.1, random_state=42)\n",
    "\n",
    "#Setup BayesianRidge regressor\n",
    "regr =  BayesianRidge()\n",
    "\n",
    "# Train the model using the training sets\n",
    "regr.fit(X_train, (y_train))\n",
    "\n",
    "# Make predictions using the testing set\n",
    "y_pred = regr.predict(X_test)\n",
    "\n",
    "# Print results\n",
    "print(\"Mean absolute error: %.2f\"\n",
    "      % mean_absolute_error(y_test, (y_pred)))\n",
    "\n",
    "# Explained variance score: 1 is perfect prediction\n",
    "print('Variance score: %.2f' % r2_score(y_test, (y_pred)))"
   ]
  },
  {
   "cell_type": "code",
   "execution_count": null,
   "metadata": {},
   "outputs": [],
   "source": [
    "# Make predictions on the unlabled dataset\n",
    "df2_y_pred = regr.predict(df2_X)\n",
    "# export data\n",
    "pd.DataFrame(df2_y_pred).to_csv(\"Predictions.csv\")"
   ]
  }
 ],
 "metadata": {
  "kernelspec": {
   "display_name": "Python 3",
   "language": "python",
   "name": "python3"
  },
  "language_info": {
   "codemirror_mode": {
    "name": "ipython",
    "version": 3
   },
   "file_extension": ".py",
   "mimetype": "text/x-python",
   "name": "python",
   "nbconvert_exporter": "python",
   "pygments_lexer": "ipython3",
   "version": "3.7.4"
  }
 },
 "nbformat": 4,
 "nbformat_minor": 2
}
